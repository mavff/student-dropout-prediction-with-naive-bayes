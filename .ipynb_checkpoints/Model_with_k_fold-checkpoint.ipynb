{
 "cells": [
  {
   "cell_type": "code",
   "execution_count": null,
   "id": "57dafa2f-5b30-4911-8f87-9984dbd82e31",
   "metadata": {},
   "outputs": [],
   "source": [
    "from ucimlrepo import fetch_ucirepo\n",
    "from sklearn.naive_bayes import GaussianNB\n",
    "from sklearn.metrics import accuracy_score #saber qual a precisão do modelo\n",
    "from sklearn.model_selection import KFold #usar atécnica k-fold pra melhorar o modelo\n",
    "import numpy as np\n",
    "import pandas as pd\n",
    "# fetch dataset\n",
    "predict_students_dropout_and_academic_success = fetch_ucirepo(id=697)\n",
    "\n",
    "# data (as pandas dataframes)\n",
    "X = predict_students_dropout_and_academic_success.data.features\n",
    "y = predict_students_dropout_and_academic_success.data.targets"
   ]
  },
  {
   "cell_type": "code",
   "execution_count": null,
   "id": "97b069df-8a6e-42be-8e0c-9aebc9d2ead5",
   "metadata": {},
   "outputs": [],
   "source": [
    "\n",
    "kf = KFold(n_splits=9, shuffle=True, random_state=42)  # Use 9-fold cross-validation\n",
    "\n",
    "accuracies = []\n",
    "\n",
    "for train_index, test_index in kf.split(X):\n",
    "    X_train, X_test = X.iloc[train_index], X.iloc[test_index]\n",
    "    y_train, y_test = y.iloc[train_index], y.iloc[test_index]\n",
    "    \n",
    "    # Flatten y_train and y_test\n",
    "    y_train = y_train.values.ravel()\n",
    "    y_test = y_test.values.ravel()\n",
    "    \n",
    "    naive_dropout = GaussianNB()\n",
    "    naive_dropout.fit(X_train, y_train)\n",
    "    y_predict = naive_dropout.predict(X_test)\n",
    "    \n",
    "    accuracy = accuracy_score(y_test, y_predict)\n",
    "    accuracies.append(accuracy)\n",
    "    print(f\"Fold Accuracy: {accuracy:.4f}\")\n",
    "\n",
    "# Calculate and print the mean accuracy\n",
    "mean_accuracy = np.mean(accuracies)\n",
    "print(f\"Mean Accuracy: {mean_accuracy:.4f}\")"
   ]
  },
  {
   "cell_type": "code",
   "execution_count": null,
   "id": "32af6dad-ad3b-4dd9-8f63-13e513dc61d5",
   "metadata": {},
   "outputs": [],
   "source": [
    "sample = pd.DataFrame([[1, 1, 1, 30, 1, 1, 180, 1, 1, 1, 0, 1, 150, 0, 0, 0, 1, 1, 1, 18, 0, 0, 5, 5, 4, 70, 1, 0, 5, 5, 4, 75, 0, 5.5, 1.2, 21000]], columns=X.columns)\n",
    "previsao = naive_dropout.predict(sample)\n",
    "print(previsao)"
   ]
  }
 ],
 "metadata": {
  "kernelspec": {
   "display_name": "Python 3 (ipykernel)",
   "language": "python",
   "name": "python3"
  },
  "language_info": {
   "name": ""
  }
 },
 "nbformat": 4,
 "nbformat_minor": 5
}
