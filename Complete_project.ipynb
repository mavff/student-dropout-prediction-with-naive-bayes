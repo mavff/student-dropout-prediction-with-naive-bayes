{
 "cells": [
  {
   "cell_type": "code",
   "execution_count": null,
   "id": "b7ea8b03-0a3f-47e4-b6e2-0e0657b996cf",
   "metadata": {},
   "outputs": [],
   "source": [
    "#importando as bibliotecas necessárias\n",
    "from ucimlrepo import fetch_ucirepo\n",
    "from sklearn.naive_bayes import GaussianNB\n",
    "from sklearn.metrics import accuracy_score #saber qual a precisão do modelo\n",
    "from sklearn.model_selection import KFold #usar atécnica k-fold pra melhorar o modelo\n",
    "import numpy as np\n",
    "import pandas as pd"
   ]
  },
  {
   "cell_type": "code",
   "execution_count": null,
   "id": "d652e0a8-8844-4fde-94f9-f455537a50de",
   "metadata": {},
   "outputs": [],
   "source": [
    "# fetch dataset\n",
    "predict_students_dropout_and_academic_success = fetch_ucirepo(id=697)\n"
   ]
  },
  {
   "cell_type": "code",
   "execution_count": null,
   "id": "4dac1d28-c774-44a9-b4c3-1b5280838fe3",
   "metadata": {},
   "outputs": [],
   "source": [
    "# data (as pandas dataframes)\n",
    "predict_students_dropout_and_academic_success.data.features\n",
    "predict_students_dropout_and_academic_success.data.targets"
   ]
  }
 ],
 "metadata": {
  "kernelspec": {
   "display_name": "Python 3 (ipykernel)",
   "language": "python",
   "name": "python3"
  },
  "language_info": {
   "name": ""
  }
 },
 "nbformat": 4,
 "nbformat_minor": 5
}
